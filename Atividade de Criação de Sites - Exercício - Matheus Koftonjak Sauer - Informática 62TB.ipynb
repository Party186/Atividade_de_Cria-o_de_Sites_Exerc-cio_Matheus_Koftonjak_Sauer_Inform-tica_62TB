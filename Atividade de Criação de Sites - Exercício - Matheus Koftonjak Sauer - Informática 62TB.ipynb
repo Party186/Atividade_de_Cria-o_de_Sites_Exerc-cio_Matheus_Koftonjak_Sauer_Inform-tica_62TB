{
  "nbformat": 4,
  "nbformat_minor": 0,
  "metadata": {
    "colab": {
      "name": "Untitled2.ipynb",
      "provenance": []
    },
    "kernelspec": {
      "name": "python3",
      "display_name": "Python 3"
    },
    "language_info": {
      "name": "python"
    }
  },
  "cells": [
    {
      "cell_type": "code",
      "metadata": {
        "id": "vveX23Hb7nJl"
      },
      "source": [
        "Faça um programa em Javascript, solicite ao usuário a altura e o peso de uma pessoa. Posteriormente deve ser calculado o IMC desta pessoa. Por fim o resultado deve ser informado, de acordo com a tabela IMC."
      ],
      "execution_count": null,
      "outputs": []
    },
    {
      "cell_type": "code",
      "metadata": {
        "id": "HtklrqPF8IAg"
      },
      "source": [
        var peso = prompt("Informe o seu peso:")
var altura = prompt("Informe a sua altura:")
var imc = peso/(altura**altura)

if (imc < 17){
    alert("MAGREZA")
} else if (imc => 18.5 && imc < 24.9){
    alert("NORMAL")
} else if (imc => 25 && imc < 29.9){
    alert("SOBREPESO")
} else if (imc => 30 && imc < 39.9){
    alert("OBESIDADE")
} else{
    alert("OBESIDADE GRAVE")
}
      ],
      "execution_count": null,
      "outputs": []
    }
  ]
}
