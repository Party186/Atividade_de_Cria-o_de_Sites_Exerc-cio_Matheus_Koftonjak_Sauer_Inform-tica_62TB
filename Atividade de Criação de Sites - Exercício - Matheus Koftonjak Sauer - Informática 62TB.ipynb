{
  "nbformat": 4,
  "nbformat_minor": 0,
  "metadata": {
    "colab": {
      "name": "Untitled2.ipynb",
      "provenance": []
    },
    "kernelspec": {
      "name": "python3",
      "display_name": "Python 3"
    },
    "language_info": {
      "name": "python"
    }
  },
  "cells": [
    {
      "cell_type": "code",
      "metadata": {
        "id": "vveX23Hb7nJl"
      },
      "source": [
        "Faça um programa em Javascript, solicite ao usuário a altura e o peso de uma pessoa. Posteriormente deve ser calculado o IMC desta pessoa. Por fim o resultado deve ser informado, de acordo com a tabela IMC."
      ],
      "execution_count": null,
      "outputs": []
    },
    {
      "cell_type": "code",
      "metadata": {
        "id": "HtklrqPF8IAg"
      },
      "source": [
        "var peso = prompt(\"Informe o seu peso:\")\n",
        "var altura = prompt(\"Informe a sua altura:\")\n",
        "var imc = peso/(altura**altura)\n",
        "\n",
        "if (17 > imc){\n",
        "    alert(\"MAGREZA\")\n",
        "} else if (18.5 <= imc < 24.9){\n",
        "    alert(\"NORMAL\")\n",
        "} else if (25 <= imc < 29.9){\n",
        "    alert(\"SOBREPESO\")\n",
        "} else if (30 <= imc < 39.9){\n",
        "    alert(\"OBESIDADE\")\n",
        "} else{\n",
        "    alert(\"OBESIDADE GRAVE\")\n",
        "}"
      ],
      "execution_count": null,
      "outputs": []
    }
  ]
}